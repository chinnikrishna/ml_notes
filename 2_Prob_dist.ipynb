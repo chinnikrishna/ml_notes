{
 "cells": [
  {
   "cell_type": "markdown",
   "metadata": {},
   "source": [
    "# Probability Distributions\n",
    "The problem of finding the probability distribution of a random variable from observations ,$x_1...x_N$, of that random variable is called density estimation. \n",
    "\n",
    "Probability distributions governed by small number of adaptive parameters are called parametric distributions. If we know that our observations are from a parametric distribution then the problem of density estimation is simply finding these parameters. This can be done in two ways\n",
    "\n",
    "1) In the frequentist approach , we assume that the parameter has a specific value and we find this value by optimizing a criterion (say likelihood function) to fit the observations.\n",
    "\n",
    "2) In the bayesian approach, we assume that the parameters have a distribution. We use this distribution as prior and calculate posterior from the observations by bayes rule."
   ]
  },
  {
   "cell_type": "markdown",
   "metadata": {},
   "source": [
    "Notes\n",
    "1. Maximimum likelihood methods have the problem of overfitting when the dataset is small. For example in the case of binary random variable, sample mean becomes m/N where m is number of heads and N is total number of trails. If we flips 3 heads in a row, then sample mean becomes 1 which means that we will get head all the time which is not correct. This can be avoided with bayesian method because we can keep adjusting our posterior with new incoming data."
   ]
  },
  {
   "cell_type": "code",
   "execution_count": null,
   "metadata": {},
   "outputs": [],
   "source": []
  }
 ],
 "metadata": {
  "kernelspec": {
   "display_name": "Python 3",
   "language": "python",
   "name": "python3"
  },
  "language_info": {
   "codemirror_mode": {
    "name": "ipython",
    "version": 3
   },
   "file_extension": ".py",
   "mimetype": "text/x-python",
   "name": "python",
   "nbconvert_exporter": "python",
   "pygments_lexer": "ipython3",
   "version": "3.6.5"
  }
 },
 "nbformat": 4,
 "nbformat_minor": 2
}
