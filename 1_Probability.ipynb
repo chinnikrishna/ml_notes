{
 "cells": [
  {
   "cell_type": "markdown",
   "metadata": {},
   "source": [
    "# Probability"
   ]
  },
  {
   "cell_type": "markdown",
   "metadata": {},
   "source": [
    "Probability is the logical framework for quantifying uncertainity  and randomness. Central to the subject of probability is the concept of random experiment.\n",
    "\n",
    "Random Experiment\n",
    "\n",
    "An experiment whose results may not be same when it is repeated is called an Random Experiment. All possible outcomes of a random experiment is represented by a set called Sample Space S\n",
    "\n",
    "To do a random experiment we need to define a task whose outcomes are stochiastic (not deterministic). Examples of such tasks are flipping a coin, drawing a card from deck of cards etc... \n",
    "\n",
    "When a fair coin is flipped there is a 50% chance for head or tails to appear. For a biased coin we can represent the probability to get a head by p. This is modeled by a bernoulli trial given by\n",
    "$P(X=x) = p^x(1 - p)^{1-x}$\n",
    "\n",
    "In the code block below we model a Coin and visualize the outcome by flipping the coin 100 times\n"
   ]
  },
  {
   "cell_type": "code",
   "execution_count": 1,
   "metadata": {},
   "outputs": [],
   "source": [
    "import numpy as np\n",
    "import matplotlib.pyplot as plt\n",
    "\n",
    "class Coin(object):\n",
    "    def __init__(self, p=0.5):\n",
    "        \"\"\"\n",
    "        p(float): Represents the probability to get a head. Fair coin by default as p=0.5\n",
    "        \"\"\"\n",
    "        self.p = p\n",
    "    def flip(self, repeat=1):\n",
    "        \"\"\"\n",
    "        Flips the coin repeat number of times\n",
    "        repeat(int): Number of times to repeat the experiment\n",
    "        \"\"\"\n",
    "        outcomes = []\n",
    "        for i in range(repeat):\n",
    "            outcomes.append(np.random.binomial(1, self.p, 1)[0])\n",
    "        return outcomes\n",
    "    def viz(self, outcomes):\n",
    "        \"\"\"\n",
    "        Plots a histogram of distribution\n",
    "        \"\"\"\n",
    "        plt.figure(facecolor=(1, 1, 1))\n",
    "        plt.title(\"Probability of getting heads or tails in n trails\")\n",
    "        plt.xlabel(\" 0- Tails 1 - Heads\")\n",
    "        plt.ylabel(\"Number of heads or tails\")\n",
    "        plt.hist(outcomes, density=True, color=\"green\")\n",
    "        \n",
    "coin = Coin(0.23)\n",
    "coin.viz(coin.flip(100))\n"
   ]
  },
  {
   "cell_type": "markdown",
   "metadata": {},
   "source": [
    "Random Variable\n",
    "\n",
    "A random variable is a function which maps sample space S to real numbers R. Output is random because of randomness of experiment on S. So they are numerical summaries of random experiment. Consider the case of flipping a two coins at the same time. We can define a random variable X which counts the number of heads when flipped at the same time. \n",
    "\n",
    "| C1 | C2 | X | P(X=k) |\n",
    "|----|----|---|--------|\n",
    "| T  | T  | 0 | 0.25   |\n",
    "| T  | H  | 1 | 0.25   |\n",
    "| H  | T  | 1 | 0.25   |\n",
    "| H  | H  | 2 | 0.25   |\n",
    "\n",
    "P(X=0) = P(T, T) = 0.25\n",
    "\n",
    "P(X=1) = P(H, T) + P(T, H) = 0.25 + 0.25 = 0.5\n",
    "\n",
    "P(X=2) = P(H, H) = 0.25\n",
    "\n",
    "P(X=k) is probability mass function (P.M.F). Cumulative distribution function tells if a random will have a value less than or equal to k.\n",
    "\n",
    "In the code block below we use binomial distribution to simulate flipping multiple coins and plot the PMF (Probability of getting differnet number of heads)"
   ]
  },
  {
   "cell_type": "code",
   "execution_count": 2,
   "metadata": {},
   "outputs": [
    {
     "data": {
      "image/png": "[encoded data removed]",
      "text/plain": [
       "<Figure size 432x288 with 1 Axes>"
      ]
     },
     "metadata": {},
     "output_type": "display_data"
    },
    {
     "data": {
      "image/png": "[encoded data removed]",
      "text/plain": [
       "<Figure size 432x288 with 1 Axes>"
      ]
     },
     "metadata": {},
     "output_type": "display_data"
    }
   ],
   "source": [
    "class Coins(object):\n",
    "    def __init__(self, num_coins, p):\n",
    "        \"\"\"\n",
    "        num_coins(int): Number of coins in experiment\n",
    "        p(float): probability to get a head\n",
    "        \"\"\"\n",
    "        self.num_coins = num_coins\n",
    "        self.p = p\n",
    "    \n",
    "    def flip(self, num_trails=1):\n",
    "        \"\"\"\n",
    "        Returns number of success after num_trails\n",
    "        \"\"\"\n",
    "        return [np.random.binomial(self.num_coins, self.p) for i in range(num_trails)]\n",
    "    \n",
    "    def viz_pmf(self, outcomes):\n",
    "        \"\"\"\n",
    "        Plots probability mass function\n",
    "        \"\"\"\n",
    "        n = len(outcomes)\n",
    "        plt.figure(facecolor=(1, 1, 1))\n",
    "        plt.title(\"PMF of a binomial distribution from flipping \" + str(self.num_coins) + \" coins\")\n",
    "        plt.xlabel(\"Number of heads\")\n",
    "        plt.ylabel(\"P(X=k)\")\n",
    "        plt.hist(outcomes, density=True, color=\"green\")\n",
    "    \n",
    "    def viz_cdf(self, outcomes):\n",
    "        \"\"\"\n",
    "        Plots probability mass function\n",
    "        \"\"\"\n",
    "        # Outcome has number of heads for 100 different trails\n",
    "        # To get CDF we need to find cumulative sum\n",
    "        cdf_values = [0] * (self.num_coins + 1)\n",
    "        for head in range(self.num_coins + 1):\n",
    "            for i in range(len(outcomes)):\n",
    "                if outcomes[i] <= head:\n",
    "                    cdf_values[head] += 1\n",
    "        plt.figure(facecolor=(1, 1, 1))\n",
    "        plt.title(\"CDF of a binomial distribution from flipping n coins\")\n",
    "        plt.xlabel(\"Number of heads\")\n",
    "        plt.ylabel(\"P(X<=k)\")\n",
    "        plt.hist(cdf_values, color=\"green\", cumulative=True)\n",
    "        \n",
    "        \n",
    "c1 = Coins(2, 0.5)\n",
    "outcome = c1.flip(100)\n",
    "c1.viz_pmf(outcome)\n",
    "c1.viz_cdf(outcome)"
   ]
  },
  {
   "cell_type": "markdown",
   "metadata": {},
   "source": [
    "## Joint Distributions\n",
    "If X and Y are two discrete random variables, then the joint probability gives the probability for X=k1 and Y=K2 at the same time.\n",
    "\n",
    "For example if\n",
    "\n",
    "X is a random variable for number of letters in a word\n",
    "\n",
    "Y is a random variable for number of vowels in a word\n",
    "\n",
    "Then P(X=5;Y=2) gives the probability of finding 5 lettered words with two vowels. Whereas P(Y=1) is called marginal probability which gives probability of finding all words with atleast one vowel.\n",
    "\n",
    "P(Y=1) = $\\sum_{i=1}^{N}$P(X=$x_j$; Y=1)"
   ]
  },
  {
   "cell_type": "code",
   "execution_count": 10,
   "metadata": {},
   "outputs": [
    {
     "name": "stdout",
     "output_type": "stream",
     "text": [
      "Joint Probability is 0.10526315789473684\n",
      "['add', 'own', 'its', 'and']\n",
      "Marginal Probability of X is 0.18421052631578946\n",
      "['are', 'add', 'own', 'you', 'its', 'and', 'one']\n",
      "Marginal Probability of Y is 0.2894736842105263\n",
      "['There', 'are', 'your', 'lute,', 'among', 'you', 'smite', 'heart', 'break', 'life', 'one']\n"
     ]
    }
   ],
   "source": [
    "class Poem:\n",
    "    def __init__(self, text=None):\n",
    "        if text is not None:\n",
    "            self.text = text\n",
    "        else:\n",
    "            self.text = \"\"\"There are numerous strings in your lute, \n",
    "let me add my own among them. Then when you smite your chords, \n",
    " my heart will break its silence, and my life will be one with your song.  \n",
    "\"\"\"\n",
    "        poem_tokens = self.text.strip(\"\\n\")\n",
    "        poem_tokens = poem_tokens.split(\" \")\n",
    "        self.total_words = len(poem_tokens)\n",
    "        vowels = ['a', 'e', 'i', 'o', 'u']\n",
    "        self.letter_dict = dict()\n",
    "        for word in poem_tokens:\n",
    "            vowel_count = 0\n",
    "            for letter in word:\n",
    "                if letter in vowels:\n",
    "                    vowel_count += 1\n",
    "            self.letter_dict[word] = {\"len\": len(word), \"vc\": vowel_count}\n",
    "\n",
    "    def joint_prob(self, x=3, y=1):\n",
    "        list_of_interest = []\n",
    "        if y < x:\n",
    "            for key, value in self.letter_dict.items():\n",
    "                length, vc = value[\"len\"], value[\"vc\"]\n",
    "                if (length == x) and (vc == y):\n",
    "                    list_of_interest.append(key)\n",
    "        else:\n",
    "            raise ValueError(\"Expecting more vowels than letters\")\n",
    "        jc_prob = len(list_of_interest) / self.total_words\n",
    "        print(\"Joint Probability is \" + str(jc_prob))\n",
    "        print(list_of_interest)\n",
    "    \n",
    "    def marg_prob_x(self, x=5):\n",
    "        loi = []\n",
    "        for key, value in self.letter_dict.items():\n",
    "            length, vc = value[\"len\"], value[\"vc\"]\n",
    "            if length == x:\n",
    "                loi.append(key)\n",
    "        mp = len(loi) / self.total_words\n",
    "        print(\"Marginal Probability of X is \" + str(mp))\n",
    "        print(loi)\n",
    "    def marg_prob_y(self, y=5):\n",
    "        loi = []\n",
    "        for key, value in self.letter_dict.items():\n",
    "            length, vc = value[\"len\"], value[\"vc\"]\n",
    "            if vc == y:\n",
    "                loi.append(key)\n",
    "        mp = len(loi) / self.total_words\n",
    "        print(\"Marginal Probability of Y is \" + str(mp))\n",
    "        print(loi)\n",
    "p1 = Poem()\n",
    "p1.joint_prob(3, 1)\n",
    "p1.marg_prob_x(3)\n",
    "p1.marg_prob_y(2)"
   ]
  },
  {
   "cell_type": "code",
   "execution_count": null,
   "metadata": {},
   "outputs": [],
   "source": []
  }
 ],
 "metadata": {
  "kernelspec": {
   "display_name": "Python 3",
   "language": "python",
   "name": "python3"
  },
  "language_info": {
   "codemirror_mode": {
    "name": "ipython",
    "version": 3
   },
   "file_extension": ".py",
   "mimetype": "text/x-python",
   "name": "python",
   "nbconvert_exporter": "python",
   "pygments_lexer": "ipython3",
   "version": "3.6.8"
  }
 },
 "nbformat": 4,
 "nbformat_minor": 2
}
