{
 "cells": [
  {
   "cell_type": "markdown",
   "metadata": {},
   "source": [
    "# Machine Learning - 1"
   ]
  },
  {
   "cell_type": "code",
   "execution_count": 32,
   "metadata": {},
   "outputs": [],
   "source": [
    "import numpy as np\n",
    "import matplotlib.pyplot as plt\n",
    "from abc import ABC"
   ]
  },
  {
   "cell_type": "markdown",
   "metadata": {},
   "source": [
    "### Probability\n",
    "Probability is the logical framework for quantifying uncertainity  and randomness. Central to the subject of probability is the concept of random experiment.\n",
    "\n",
    "Random Experiment\n",
    "\n",
    "An experiment whose results may not be same when it is repeated is called an Random Experiment. All possible outcomes of a random experiment is represented by a set called Sample Space S\n",
    "\n",
    "In the code block below we build an object for the framework of Random Experiment\n"
   ]
  },
  {
   "cell_type": "code",
   "execution_count": 34,
   "metadata": {},
   "outputs": [],
   "source": [
    "# Random Experiment \n",
    "class RandomExperiment(object):\n",
    "    def __init__(self, rand_obj):\n",
    "        \"\"\"\n",
    "        rand_obj: Random object which has a sample method defined\n",
    "        \"\"\"\n",
    "        self.rand_obj = rand_obj\n",
    "    \n",
    "    def run_experiment(self, repeat=1):\n",
    "        \"\"\"\n",
    "        Run experiment repeat number of times by calling sample of random object\n",
    "        repeat(int) : Number of times to repeat experiment\n",
    "        returns: Array of outcome\n",
    "        \"\"\"\n",
    "        outcomes = []\n",
    "        for repetition in range(repeat):\n",
    "            outcomes.append(self.rand_obj.sample())\n",
    "        return outcomes\n",
    "    "
   ]
  },
  {
   "cell_type": "markdown",
   "metadata": {},
   "source": [
    "To do a random experiment we need to define a task whose outcomes are stochiastic (not deterministic). Examples of such tasks are flipping a coin, drawing a card from deck of cards etc... \n",
    "\n",
    "When a fair coin is flipped there is a 50% chance for head or tails to appear"
   ]
  }
 ],
 "metadata": {
  "kernelspec": {
   "display_name": "Python 3",
   "language": "python",
   "name": "python3"
  },
  "language_info": {
   "codemirror_mode": {
    "name": "ipython",
    "version": 3
   },
   "file_extension": ".py",
   "mimetype": "text/x-python",
   "name": "python",
   "nbconvert_exporter": "python",
   "pygments_lexer": "ipython3",
   "version": "3.6.8"
  }
 },
 "nbformat": 4,
 "nbformat_minor": 2
}
