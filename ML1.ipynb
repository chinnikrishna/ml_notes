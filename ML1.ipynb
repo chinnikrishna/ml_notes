{
 "cells": [
  {
   "cell_type": "markdown",
   "metadata": {},
   "source": [
    "# Machine Learning - 1"
   ]
  },
  {
   "cell_type": "code",
   "execution_count": 1,
   "metadata": {},
   "outputs": [],
   "source": [
    "import numpy as np\n",
    "import matplotlib.pyplot as plt"
   ]
  },
  {
   "cell_type": "markdown",
   "metadata": {},
   "source": [
    "### Probability\n",
    "Probability is the logical framework for quantifying uncertainity  and randomness. Central to the subject of probability is the concept of random experiment.\n",
    "\n",
    "Random Experiment\n",
    "\n",
    "An experiment whose results may not be same when it is repeated is called an Random Experiment. All possible outcomes of a random experiment is represented by a set called Sample Space S\n",
    "\n",
    "To do a random experiment we need to define a task whose outcomes are stochiastic (not deterministic). Examples of such tasks are flipping a coin, drawing a card from deck of cards etc... \n",
    "\n",
    "When a fair coin is flipped there is a 50% chance for head or tails to appear. For a biased coin we can represent the probability to get a head by p. This is modeled by a bernoulli trial given by\n",
    "$P(X=x) = p^x(1 - p)^{1-x}$\n"
   ]
  },
  {
   "cell_type": "code",
   "execution_count": 2,
   "metadata": {},
   "outputs": [
    {
     "data": {
      "image/png": "[encoded data removed]",
      "text/plain": [
       "<Figure size 432x288 with 1 Axes>"
      ]
     },
     "metadata": {
      "needs_background": "light"
     },
     "output_type": "display_data"
    }
   ],
   "source": [
    "class Coin(object):\n",
    "    def __init__(self, p=0.5):\n",
    "        \"\"\"\n",
    "        p(float): Represents the probability to get a head. Fair coin by default as p=0.5\n",
    "        \"\"\"\n",
    "        self.p = p\n",
    "    def flip(self, repeat=1):\n",
    "        \"\"\"\n",
    "        Flips the coin repeat number of times\n",
    "        repeat(int): Number of times to repeat the experiment\n",
    "        \"\"\"\n",
    "        outcomes = []\n",
    "        for i in range(repeat):\n",
    "            outcomes.append(np.random.binomial(1, self.p, 1)[0])\n",
    "        return outcomes\n",
    "    def viz(self, outcomes):\n",
    "        \"\"\"\n",
    "        Plots a histogram of distribution\n",
    "        \"\"\"\n",
    "        plt.hist(outcomes, density=True)\n",
    "        \n",
    "coin = Coin(0.23)\n",
    "coin.viz(coin.flip(100))\n"
   ]
  },
  {
   "cell_type": "markdown",
   "metadata": {},
   "source": [
    "Random Variable\n",
    "\n",
    "A random variable is a function which maps sample space S to real numbers R. Output is random because of randomness of experiment on S. So they are numerical summaries of random experiment. Consider the case of flipping a two coins at the same time. We can define a random variable X which counts the number of heads when flipped at the same time. \n",
    "\n",
    "| C1 | C2 | X | P(X=k) |\n",
    "|----|----|---|--------|\n",
    "| T  | T  | 0 | 0.25   |\n",
    "| T  | H  | 1 | 0.25   |\n",
    "| H  | T  | 1 | 0.25   |\n",
    "| H  | H  | 3 | 0.25   |\n",
    "\n",
    "P(X=0) = P(T, T) = 0.25\n",
    "\n",
    "P(X=1) = P(H, T) + P(T, H) = 0.25 + 0.25 = 0.5\n",
    "\n",
    "P(X=2) = P(H, H) = 0.25\n",
    "\n",
    "P(X=k) is probability mass function (P.M.F). Cumulative distribution function tells if a random will have a value less than or equal to k."
   ]
  },
  {
   "cell_type": "code",
   "execution_count": 15,
   "metadata": {},
   "outputs": [
    {
     "data": {
      "text/plain": [
       "(array([104.,   0.,   0.,   0.,   0.,   0.,   0.,   0.,   0.,  96.]),\n",
       " array([0. , 0.1, 0.2, 0.3, 0.4, 0.5, 0.6, 0.7, 0.8, 0.9, 1. ]),\n",
       " <a list of 10 Patch objects>)"
      ]
     },
     "execution_count": 15,
     "metadata": {},
     "output_type": "execute_result"
    },
    {
     "data": {
      "image/png": "[encoded data removed]",
      "text/plain": [
       "<Figure size 432x288 with 1 Axes>"
      ]
     },
     "metadata": {
      "needs_background": "light"
     },
     "output_type": "display_data"
    }
   ],
   "source": [
    "# We flip two fair coins 100 times\n",
    "coin1 = Coin(0.5)\n",
    "coin2 = Coin(0.5)\n",
    "coin1_outcome = coin1.flip(100)\n",
    "coin2_outcome = coin2.flip(100)\n",
    "\n",
    "out_list = [0, 0, 0]\n",
    "for i in range(100):\n",
    "    if (coin1_outcome[i] == 0) and (coin2_outcome[i] == 0):\n",
    "        out_list[0] += 1\n",
    "    if (coin1_outcome[i] == 0) and (coin2_outcome[i] == 1):\n",
    "        out_list[1] += 1\n",
    "    if (coin1_outcome[i] == 1) and (coin2_outcome[i] == 0):\n",
    "        out_list[1] += 1\n",
    "    if (coin1_outcome[i] == 1) and (coin2_outcome[i] == 1):\n",
    "        out_list[2] += 1\n",
    "plt.hist([coin1_outcome+ coin2_outcome])"
   ]
  },
  {
   "cell_type": "code",
   "execution_count": null,
   "metadata": {},
   "outputs": [],
   "source": []
  }
 ],
 "metadata": {
  "kernelspec": {
   "display_name": "Python 3",
   "language": "python",
   "name": "python3"
  },
  "language_info": {
   "codemirror_mode": {
    "name": "ipython",
    "version": 3
   },
   "file_extension": ".py",
   "mimetype": "text/x-python",
   "name": "python",
   "nbconvert_exporter": "python",
   "pygments_lexer": "ipython3",
   "version": "3.6.8"
  }
 },
 "nbformat": 4,
 "nbformat_minor": 2
}
